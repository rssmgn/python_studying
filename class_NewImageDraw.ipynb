{
  "nbformat": 4,
  "nbformat_minor": 0,
  "metadata": {
    "colab": {
      "provenance": [],
      "authorship_tag": "ABX9TyOg0VEU010tt0Rmmb8UU9Mr"
    },
    "kernelspec": {
      "name": "python3",
      "display_name": "Python 3"
    },
    "language_info": {
      "name": "python"
    }
  },
  "cells": [
    {
      "cell_type": "code",
      "execution_count": 9,
      "metadata": {
        "id": "aLg4xPecVV_I"
      },
      "outputs": [],
      "source": [
        "from PIL import Image, ImageDraw\n",
        "\n",
        "\n",
        "class NewImageDraw(ImageDraw.ImageDraw):\n",
        "\n",
        "    def triangle(self,tr,color): \n",
        "        self.polygon(xy=((tr[0], tr[1]),\n",
        "                         (int(tr[0]-tr[2]*0.86602540378), int(tr[1]+tr[2]/2)),\n",
        "                         (int(tr[0]-tr[2]*0.86602540378), int(tr[1]-tr[2]/2))),\n",
        "                     fill=color, \n",
        "                     outline=color)\n",
        "\n",
        "\n",
        "im = Image.open('image.png')\n",
        "dr = NewImageDraw(im)\n",
        "# рисуем равносторонний треугольник острием вправо\n",
        "dr.triangle((150,100,150),(250,0,0))\n",
        "im.save(('image.bmp'))"
      ]
    }
  ]
}