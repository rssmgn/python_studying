{
  "cells": [
    {
      "cell_type": "markdown",
      "metadata": {
        "id": "view-in-github",
        "colab_type": "text"
      },
      "source": [
        "<a href=\"https://colab.research.google.com/github/rssmgn/python_studying/blob/main/class_functor.ipynb\" target=\"_parent\"><img src=\"https://colab.research.google.com/assets/colab-badge.svg\" alt=\"Open In Colab\"/></a>"
      ]
    },
    {
      "cell_type": "code",
      "execution_count": null,
      "metadata": {
        "id": "M7zlWi87Jbdu"
      },
      "outputs": [],
      "source": [
        "class Functor:\n",
        "    \n",
        "    #\"конструктор\", принимающий в качестве аргументов экземпляр и переменные a, b, c\n",
        "    def __init__(self, a, b, c): \n",
        "        self.a = a\n",
        "        self.b = b\n",
        "        self.c = c\n",
        "        self.hist = []\n",
        "\n",
        "    #метод, вычисляющий значение, записывающий его в кортеж кортежей и возвращающий рез-т\n",
        "    def calc(self, x, y):\n",
        "        res = (self.a * x) / (self.b * y) + self.c\n",
        "        self.hist += [(x, y, res)]\n",
        "        return res\n",
        "\n",
        "    #метод, возвращающий кортеж кортежей с историей всех вычислений\n",
        "    def history(self):\n",
        "        return tuple(self.hist)\n",
        "\n",
        "    def __call__(self, x, y):\n",
        "        return self.calc(x, y)\n",
        "\n",
        "    def __str__(self):\n",
        "        return f'z = ({self.a}*x) / ({self.b}*y) + {self.c}'\n",
        "\n",
        "    def new_max(self):\n",
        "        return (sorted(self.hist, key=lambda x:x[2]))[-1][2]\n",
        "\n",
        "    def __iter__(self):\n",
        "        for i in self.hist:\n",
        "            yield i\n",
        "\n",
        "#обертка на основе функций\n",
        "def decorator(func):\n",
        "    def dec(A):\n",
        "        return func(A)\n",
        "    return dec\n",
        "\n",
        "@decorator\n",
        "def max(A):\n",
        "    #проверка, объект А принадлежит нужному классу\n",
        "    return A.new_max()\n",
        "\n",
        "#обертка на основе класса\n",
        "class Decorator:\n",
        "    def __init__(self, func):\n",
        "        self.func = func\n",
        "    def __call__(self, a):\n",
        "        return self.func(a)\n",
        "\n",
        "@Decorator\n",
        "def Max(A):\n",
        "    #проверка, объект А принадлежит нужному классу\n",
        "    return A.new_max()"
      ]
    },
    {
      "cell_type": "code",
      "execution_count": null,
      "metadata": {
        "colab": {
          "base_uri": "https://localhost:8080/"
        },
        "id": "9bpp1gL1fvVJ",
        "outputId": "d2513eac-5a36-45ad-c771-1c30af2be018"
      },
      "outputs": [
        {
          "output_type": "stream",
          "name": "stdout",
          "text": [
            "6.0\n",
            "((3, 2, 6.0),)\n",
            "z = (2*x) / (1*y) + 3\n",
            "((3, 2, 6.0),)\n",
            "6.0\n",
            "7.0\n",
            "((3, 2, 6.0), (4, 2, 7.0))\n",
            "7.0\n",
            "z = (2*x) / (1*y) + 3\n"
          ]
        }
      ],
      "source": [
        "f = Functor(2, 1, 3)\n",
        "print(f.calc(3, 2))\n",
        "print(f.history())\n",
        "print(f)\n",
        "print(tuple(f))\n",
        "print(max(f))\n",
        "print(f.calc(4, 2))\n",
        "print(f.history())\n",
        "print(Max(f))\n",
        "print(str(f))"
      ]
    },
    {
      "cell_type": "code",
      "source": [
        "f = Functor(6, 2, 4)\n",
        "print(f.calc(7, 3))\n",
        "print(f.history())\n",
        "print(max(f))\n",
        "print(f.calc(8, 4))\n",
        "print(f.history())\n",
        "print(max(f))"
      ],
      "metadata": {
        "colab": {
          "base_uri": "https://localhost:8080/"
        },
        "id": "B0geBMm_jzrK",
        "outputId": "19e3882c-75e3-43a1-8f9b-db7635a42d7b"
      },
      "execution_count": null,
      "outputs": [
        {
          "output_type": "stream",
          "name": "stdout",
          "text": [
            "11.0\n",
            "((7, 3, 11.0),)\n",
            "11.0\n",
            "10.0\n",
            "((7, 3, 11.0), (8, 4, 10.0))\n",
            "11.0\n"
          ]
        }
      ]
    },
    {
      "cell_type": "code",
      "source": [
        "f = Functor(-6, 2, 9)\n",
        "print(f.calc(-5, 4))\n",
        "print(f.history())\n",
        "print(max(f))\n",
        "print(f.calc(7, 2))\n",
        "print(f.history())\n",
        "print(max(f))"
      ],
      "metadata": {
        "colab": {
          "base_uri": "https://localhost:8080/"
        },
        "id": "Z392U8-IkLzK",
        "outputId": "fd19f7e9-ae56-4800-81c9-7a2bdd12964d"
      },
      "execution_count": null,
      "outputs": [
        {
          "output_type": "stream",
          "name": "stdout",
          "text": [
            "12.75\n",
            "((-5, 4, 12.75),)\n",
            "12.75\n",
            "-1.5\n",
            "((-5, 4, 12.75), (7, 2, -1.5))\n",
            "12.75\n"
          ]
        }
      ]
    }
  ],
  "metadata": {
    "colab": {
      "provenance": [],
      "authorship_tag": "ABX9TyN3vmbIDoB98+g/crdUOeBT",
      "include_colab_link": true
    },
    "kernelspec": {
      "display_name": "Python 3",
      "name": "python3"
    },
    "language_info": {
      "name": "python"
    }
  },
  "nbformat": 4,
  "nbformat_minor": 0
}